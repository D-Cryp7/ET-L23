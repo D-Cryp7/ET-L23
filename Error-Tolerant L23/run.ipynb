{
 "cells": [
  {
   "cell_type": "code",
   "execution_count": 2,
   "id": "990649b2-64ea-4aa3-860e-14cc5b94cb9c",
   "metadata": {},
   "outputs": [],
   "source": [
    "depolarize_probabilities = [0.1, 0.2, 0.3, 0.4, 0.5, 0.6, 0.7, 0.8, 0.9, 1.0]\n",
    "\n",
    "results = {}\n",
    "\n",
    "for depolarize_probability in depolarize_probabilities:\n",
    "    results[depolarize_probability] = [0, 0]\n",
    "    \n",
    "# file = open(\"probability_results.txt\", \"w\")\n",
    "# file.write(str(results))\n",
    "# file.close()"
   ]
  },
  {
   "cell_type": "code",
   "execution_count": 18,
   "id": "2b4954f1-0112-41bb-bd3e-f37070cb5fdd",
   "metadata": {
    "tags": []
   },
   "outputs": [
    {
     "name": "stdout",
     "output_type": "stream",
     "text": [
      "Tolerability using 50.0% error and 5002 iterations: 0.9130347860855658\n"
     ]
    }
   ],
   "source": [
    "from ET_L23_qkd import QKD\n",
    "from itertools import product\n",
    "\n",
    "bits = 32\n",
    "min_iterations = 1000\n",
    "depolarize_probability = 0.5\n",
    "rounds = 1\n",
    "\n",
    "file = open(\"probability_results.txt\", \"r\")\n",
    "results = eval(file.read())\n",
    "file.close()\n",
    "\n",
    "actual_iterations = results[depolarize_probability][1]\n",
    "if actual_iterations:\n",
    "    actual_tolerability = results[depolarize_probability][0] / results[depolarize_probability][1]\n",
    "else:\n",
    "    actual_tolerability = 0\n",
    "\n",
    "for i in range(actual_iterations, 100000):\n",
    "    alice_key = ''\n",
    "    while not alice_key:\n",
    "        qkd = QKD(bits, rounds = rounds, depolarize_probability = depolarize_probability, efficient = True)\n",
    "        alice_raw_key, bob_raw_key = qkd.generate_raw_key()\n",
    "        alice_key, bob_key = qkd.generate_sifting_key(alice_raw_key, bob_raw_key)\n",
    "    \n",
    "    if len(alice_key) == 2:\n",
    "        keys = list(set([ x + y for x, y in product(alice_key[0], alice_key[1]) ]))\n",
    "    else:\n",
    "        keys = list(set(alice_key[0]))\n",
    "    \n",
    "    for key in keys:\n",
    "        if key == bob_key:\n",
    "            results[depolarize_probability][0] += 1\n",
    "            break\n",
    "            \n",
    "    results[depolarize_probability][1] += 1\n",
    "    \n",
    "    if (abs(actual_tolerability - (results[depolarize_probability][0] / results[depolarize_probability][1])) != 0) and (abs(actual_tolerability - (results[depolarize_probability][0] / results[depolarize_probability][1])) < 1e-4) and i > min_iterations:\n",
    "        actual_tolerability = results[depolarize_probability][0] / results[depolarize_probability][1]\n",
    "        print(f\"Tolerability using {depolarize_probability * 100}% error and {results[depolarize_probability][1]} iterations: {actual_tolerability}\")\n",
    "        break\n",
    "\n",
    "    actual_tolerability = results[depolarize_probability][0] / results[depolarize_probability][1]\n",
    "    \n",
    "    file = open(\"probability_results.txt\", \"w\")\n",
    "    file.write(str(results))\n",
    "    file.close()"
   ]
  },
  {
   "cell_type": "markdown",
   "id": "278cdc97-632d-4801-9ee7-29d82630328b",
   "metadata": {},
   "source": [
    "#### Execute ET-L23"
   ]
  },
  {
   "cell_type": "code",
   "execution_count": 17,
   "id": "7ff50221-c133-4af9-9f02-56ecaa09a077",
   "metadata": {},
   "outputs": [
    {
     "name": "stdout",
     "output_type": "stream",
     "text": [
      "Alice raw key: 10011110110101110000011101101011\n",
      "Bob raw key: 10001110100100000010011010110001\n"
     ]
    }
   ],
   "source": [
    "from Crypto.Util.Padding import pad, unpad\n",
    "from Crypto.Cipher import AES\n",
    "from hashlib import sha256\n",
    "\n",
    "from ET_L23_qkd import QKD\n",
    "\n",
    "bits = 32\n",
    "rounds = 1\n",
    "qkd = QKD(bits, rounds = rounds, depolarize_probability = 0.5, efficient = True)\n",
    "\n",
    "alice_raw_key, bob_raw_key = qkd.generate_raw_key()\n",
    "print(f\"Alice raw key: {alice_raw_key}\")\n",
    "print(f\"Bob raw key: {bob_raw_key}\")\n",
    "\n",
    "alice_key, bob_key = qkd.generate_sifting_key(alice_raw_key, bob_raw_key)\n",
    "\n",
    "if rounds == 2:\n",
    "    keys = list(set([ x + y for x, y in zip(alice_key[0], alice_key[1]) ]))\n",
    "else:\n",
    "    keys = list(set(alice_key[0]))\n",
    "\n",
    "for key in keys:\n",
    "    if key == bob_key:\n",
    "        print(\"QKD completed!\")\n",
    "        print(f\"Shared key: {key}\")\n",
    "\n",
    "        alice_key = sha256(key.encode()).digest()\n",
    "        bob_key = sha256(bob_key.encode()).digest()\n",
    "\n",
    "        MSG = b\"H3xTEL{R3v3rS3_R3C0nc1l14710N_1s_P34K!}\"\n",
    "        cipher = AES.new(alice_key, AES.MODE_ECB)\n",
    "        encrypted = cipher.encrypt(pad(MSG, 16))\n",
    "\n",
    "        print(f\"Alice encrypted message: {encrypted.hex()}\")\n",
    "\n",
    "        cipher = AES.new(bob_key, AES.MODE_ECB)\n",
    "        decrypted = unpad(cipher.decrypt(encrypted), 16)\n",
    "\n",
    "        print(f\"Bob decrypted message: {decrypted.decode()}\")"
   ]
  }
 ],
 "metadata": {
  "kernelspec": {
   "display_name": "Python 3",
   "language": "python",
   "name": "python3"
  },
  "language_info": {
   "codemirror_mode": {
    "name": "ipython",
    "version": 3
   },
   "file_extension": ".py",
   "mimetype": "text/x-python",
   "name": "python",
   "nbconvert_exporter": "python",
   "pygments_lexer": "ipython3",
   "version": "3.8.15"
  }
 },
 "nbformat": 4,
 "nbformat_minor": 5
}
