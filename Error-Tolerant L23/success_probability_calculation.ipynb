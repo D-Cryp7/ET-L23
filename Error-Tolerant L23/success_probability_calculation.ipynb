{
 "cells": [
  {
   "cell_type": "code",
   "execution_count": 8,
   "id": "51b5a418-10a9-4d9e-a47a-d5361019a41a",
   "metadata": {},
   "outputs": [
    {
     "name": "stdout",
     "output_type": "stream",
     "text": [
      "Alice raw key: 01000111100110101000101111101000\n",
      "Bob raw key: 01110011100110100000100101111000\n",
      "QKD completed!\n",
      "Shared key: 011100011101111110100000101010011100000111111110100000001010011110101011110111111010010001011110011111000000110000000000101101101100010110010100111000110010011111101000100101010100100110010100000010011101110111010111111110000010000110101001000011011111110100111000100111000110011010011111101010110100010100111111110000000011000011011000100011011110011000101110001100000000010111000100110011100100010111010101100011010110000110000100100101100111010010110110101000001111001000100000011001010111010010001101110101100110101000110100010000010111110010011111010000010110001101000001111000100000101111000101001101011110110011101000000010010110110111101111001101011000011001001000111000111110100110011010001001010110111101001001001100100100111011111010110011001001010001101111010110000100010010111000110110011110000111101011010111110011001101100100100001110001100100001010000010101110001100111011110011100101111001111000100110100001011110010100011001010001101011100000110111111111001111000101100110\n",
      "Alice encrypted message: 022b384ab5cf6f946e87bcb33d4258f14a012d3b6a62fc4f5df9c6425a054adffb790b3dceca7effc638363b6eaf365c\n",
      "Bob decrypted message: H3xTEL{R3v3rS3_R3C0nc1l14710N_1s_P34K!}\n"
     ]
    }
   ],
   "source": [
    "from Crypto.Util.Padding import pad, unpad\n",
    "from Crypto.Cipher import AES\n",
    "from hashlib import sha256\n",
    "\n",
    "from ET_L23_qkd import QKD\n",
    "\n",
    "bits = 32\n",
    "qkd = QKD(bits)\n",
    "\n",
    "alice_raw_key, bob_raw_key = qkd.generate_raw_key()\n",
    "print(f\"Alice raw key: {alice_raw_key}\")\n",
    "print(f\"Bob raw key: {bob_raw_key}\")\n",
    "\n",
    "alice_key, bob_key = qkd.generate_sifting_key(alice_raw_key, bob_raw_key)\n",
    "\n",
    "if len(alice_key) == 2:\n",
    "    keys = list(set([ x + y for x, y in zip(alice_key[0], alice_key[1]) ]))\n",
    "else:\n",
    "    keys = list(set(alice_key[0]))\n",
    "\n",
    "for key in keys:\n",
    "    if key == bob_key:\n",
    "        print(\"QKD completed!\")\n",
    "        print(f\"Shared key: {key}\")\n",
    "\n",
    "        alice_key = sha256(key.encode()).digest()\n",
    "        bob_key = sha256(bob_key.encode()).digest()\n",
    "\n",
    "        MSG = b\"H3xTEL{R3v3rS3_R3C0nc1l14710N_1s_P34K!}\"\n",
    "        cipher = AES.new(alice_key, AES.MODE_ECB)\n",
    "        encrypted = cipher.encrypt(pad(MSG, 16))\n",
    "\n",
    "        print(f\"Alice encrypted message: {encrypted.hex()}\")\n",
    "\n",
    "        cipher = AES.new(bob_key, AES.MODE_ECB)\n",
    "        decrypted = unpad(cipher.decrypt(encrypted), 16)\n",
    "\n",
    "        print(f\"Bob decrypted message: {decrypted.decode()}\")"
   ]
  },
  {
   "cell_type": "code",
   "execution_count": null,
   "id": "a8e2efe9-cab6-4a76-8fac-013ef17e4a4c",
   "metadata": {},
   "outputs": [],
   "source": [
    "qubits = [8, 16, 32]\n",
    "\n",
    "results = {}\n",
    "\n",
    "for value in qubits:\n",
    "    results[value] = [0, 0]\n",
    "    \n",
    "# file = open(\"success_probabilities.txt\", \"w\")\n",
    "# file.write(str(results))\n",
    "# file.close()"
   ]
  },
  {
   "cell_type": "code",
   "execution_count": 13,
   "id": "ca2fefaf-6fe5-4e8e-b599-faec92024cbe",
   "metadata": {},
   "outputs": [],
   "source": [
    "from ET_L23_qkd import QKD\n",
    "\n",
    "def get_success_probability(bits):\n",
    "    file = open(\"success_probabilities.txt\", \"r\")\n",
    "    results = eval(file.read())\n",
    "    file.close()\n",
    "    \n",
    "    total = results[bits][1]\n",
    "    success = results[bits][0]\n",
    "    actual = 0\n",
    "    for i in range(100000):\n",
    "        qkd = QKD(bits)\n",
    "        alice_raw_key, bob_raw_key = qkd.generate_raw_key()\n",
    "        alice_key, bob_key = qkd.generate_sifting_key(alice_raw_key, bob_raw_key)\n",
    "        if len(alice_key) == 2:\n",
    "            keys = list(set([ x + y for x, y in zip(alice_key[0], alice_key[1]) ]))\n",
    "        elif len(alice_key) == 1:\n",
    "            keys = list(set(alice_key[0]))\n",
    "        else:\n",
    "            total += 1\n",
    "            results[bits][1] += 1\n",
    "            continue\n",
    "        \n",
    "        for key in keys:\n",
    "            if key == bob_key:\n",
    "                success += 1\n",
    "                results[bits][0] += 1\n",
    "                \n",
    "        total += 1\n",
    "        results[bits][1] += 1\n",
    "        \n",
    "        if (abs(actual - (success / total)) != 0) and (abs(actual - (success / total)) < 1e-4) and i > 10000:\n",
    "            actual = success / total\n",
    "            print(f\"Success probability: {success / total}\")\n",
    "            break\n",
    "\n",
    "        actual = success / total\n",
    "\n",
    "        file = open(\"success_probabilities.txt\", \"w\")\n",
    "        file.write(str(results))\n",
    "        file.close()"
   ]
  },
  {
   "cell_type": "code",
   "execution_count": 14,
   "id": "70e83d30-cc13-4fd2-816a-b8c2831b17ae",
   "metadata": {},
   "outputs": [
    {
     "name": "stdout",
     "output_type": "stream",
     "text": [
      "Success probability: 0.2669932027189124\n"
     ]
    }
   ],
   "source": [
    "# 8 qubits send\n",
    "get_success_probability(8)"
   ]
  },
  {
   "cell_type": "code",
   "execution_count": 15,
   "id": "1f9dc5f1-fc72-4e10-846c-f00aabc60d98",
   "metadata": {},
   "outputs": [
    {
     "name": "stdout",
     "output_type": "stream",
     "text": [
      "Success probability: 0.8715256948610278\n"
     ]
    }
   ],
   "source": [
    "# 16 qubits send\n",
    "get_success_probability(16)"
   ]
  },
  {
   "cell_type": "code",
   "execution_count": 16,
   "id": "62b264cb-9201-400c-9191-ae746c83d7c8",
   "metadata": {},
   "outputs": [
    {
     "name": "stdout",
     "output_type": "stream",
     "text": [
      "Success probability: 0.9986002799440112\n"
     ]
    }
   ],
   "source": [
    "# 32 qubits send\n",
    "get_success_probability(32)"
   ]
  }
 ],
 "metadata": {
  "kernelspec": {
   "display_name": "Python 3",
   "language": "python",
   "name": "python3"
  },
  "language_info": {
   "codemirror_mode": {
    "name": "ipython",
    "version": 3
   },
   "file_extension": ".py",
   "mimetype": "text/x-python",
   "name": "python",
   "nbconvert_exporter": "python",
   "pygments_lexer": "ipython3",
   "version": "3.8.15"
  }
 },
 "nbformat": 4,
 "nbformat_minor": 5
}
