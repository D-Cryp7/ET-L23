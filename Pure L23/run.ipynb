{
 "cells": [
  {
   "cell_type": "markdown",
   "id": "1bdcf5f1-0b21-458d-ae42-84b233c4eb41",
   "metadata": {},
   "source": [
    "#### Execute L23"
   ]
  },
  {
   "cell_type": "code",
   "execution_count": 43,
   "id": "797a483b-4a35-49da-9293-b012343ef54b",
   "metadata": {
    "tags": []
   },
   "outputs": [
    {
     "name": "stdout",
     "output_type": "stream",
     "text": [
      "Alice raw key: 10001000101010010110111101110011\n",
      "Bob raw key: 10001011001100110011111101101011\n",
      "QKD completed!\n",
      "Shared key: 000100011100001101110101001001000100000110110010001010000001101101001111010010011010100100010010011100100110100011000110011010011111101001000001110101110011101101101111100100010010110000000000010001010111100100111000100110010101101111100011110111110000101101111100000011000000011100011011101010101111001111100100000\n",
      "Alice encrypted message: aeafceee702fe7489895b510d65bf0e7cd8e7154232086c2b79cc1fcf3b44287e09ac22690c8f9214156791e182ade1f\n",
      "Bob decrypted message: H3xTEL{R3v3rS3_R3C0nc1l14710N_1s_P34K!}\n"
     ]
    }
   ],
   "source": [
    "from Crypto.Util.Padding import pad, unpad\n",
    "from Crypto.Cipher import AES\n",
    "from hashlib import sha256\n",
    "\n",
    "from lizama_qkd import QKD\n",
    "\n",
    "bits = 32\n",
    "qkd = QKD(bits)\n",
    "\n",
    "alice_raw_key, bob_raw_key = qkd.generate_raw_key()\n",
    "print(f\"Alice raw key: {alice_raw_key}\")\n",
    "print(f\"Bob raw key: {bob_raw_key}\")\n",
    "\n",
    "alice_key, bob_key = qkd.generate_sifting_key(alice_raw_key, bob_raw_key)\n",
    "\n",
    "assert alice_key == bob_key\n",
    "print(\"QKD completed!\")\n",
    "\n",
    "print(f\"Shared key: {alice_key}\")\n",
    "\n",
    "alice_key = sha256(alice_key.encode()).digest()\n",
    "bob_key = sha256(bob_key.encode()).digest()\n",
    "\n",
    "MSG = b\"H3xTEL{R3v3rS3_R3C0nc1l14710N_1s_P34K!}\"\n",
    "cipher = AES.new(alice_key, AES.MODE_ECB)\n",
    "encrypted = cipher.encrypt(pad(MSG, 16))\n",
    "\n",
    "print(f\"Alice encrypted message: {encrypted.hex()}\")\n",
    "\n",
    "cipher = AES.new(bob_key, AES.MODE_ECB)\n",
    "decrypted = unpad(cipher.decrypt(encrypted), 16)\n",
    "\n",
    "print(f\"Bob decrypted message: {decrypted.decode()}\")"
   ]
  },
  {
   "cell_type": "markdown",
   "id": "ea259c83-3cc4-4923-a721-4186ed5afd6b",
   "metadata": {},
   "source": [
    "#### Success probability calculation"
   ]
  },
  {
   "cell_type": "code",
   "execution_count": 16,
   "id": "00f2f604-3870-4a97-aaea-3a4ca7b05cb2",
   "metadata": {},
   "outputs": [],
   "source": [
    "# preparing file\n",
    "qubits = [8, 16, 32]\n",
    "\n",
    "results = {}\n",
    "\n",
    "for value in qubits:\n",
    "    results[value] = [0, 0]\n",
    "    \n",
    "# file = open(\"success_probabilities.txt\", \"w\")\n",
    "# file.write(str(results))\n",
    "# file.close()"
   ]
  },
  {
   "cell_type": "code",
   "execution_count": 24,
   "id": "ddf348d7-a0e1-4dd5-b7a0-526358e5e0af",
   "metadata": {},
   "outputs": [],
   "source": [
    "def get_success_probability(bits):\n",
    "    file = open(\"success_probabilities.txt\", \"r\")\n",
    "    results = eval(file.read())\n",
    "    file.close()\n",
    "    \n",
    "    total = results[bits][1]\n",
    "    success = results[bits][0]\n",
    "    actual = 0\n",
    "    for i in range(100000):\n",
    "        qkd = QKD(bits)\n",
    "        alice_raw_key, bob_raw_key = qkd.generate_raw_key()\n",
    "        alice_key, bob_key = qkd.generate_sifting_key(alice_raw_key, bob_raw_key)\n",
    "        try:\n",
    "            assert alice_key == bob_key\n",
    "            if alice_key:\n",
    "                success += 1\n",
    "                results[bits][0] += 1\n",
    "            total += 1\n",
    "            results[bits][1] += 1\n",
    "\n",
    "            if (abs(actual - (success / total)) != 0) and (abs(actual - (success / total)) < 1e-4) and i > 10000:\n",
    "                actual = success / total\n",
    "                print(f\"Success probability: {success / total}\")\n",
    "                break\n",
    "\n",
    "            actual = success / total\n",
    "        \n",
    "            file = open(\"success_probabilities.txt\", \"w\")\n",
    "            file.write(str(results))\n",
    "            file.close()\n",
    "            \n",
    "        except:\n",
    "            continue"
   ]
  },
  {
   "cell_type": "code",
   "execution_count": 25,
   "id": "ecf534f6-0f97-4eca-bc70-e6404c447108",
   "metadata": {
    "tags": []
   },
   "outputs": [
    {
     "name": "stdout",
     "output_type": "stream",
     "text": [
      "Success probability: 0.03070095168374817\n"
     ]
    }
   ],
   "source": [
    "# 8 qubits send\n",
    "get_success_probability(8)"
   ]
  },
  {
   "cell_type": "code",
   "execution_count": 26,
   "id": "4b278ef4-f805-4ce4-9542-310f4aa141e1",
   "metadata": {},
   "outputs": [
    {
     "name": "stdout",
     "output_type": "stream",
     "text": [
      "Success probability: 0.28054389122175566\n"
     ]
    }
   ],
   "source": [
    "# 16 qubits send\n",
    "get_success_probability(16)"
   ]
  },
  {
   "cell_type": "code",
   "execution_count": 27,
   "id": "2edadac8-474f-4575-b641-30c575e288a9",
   "metadata": {},
   "outputs": [
    {
     "name": "stdout",
     "output_type": "stream",
     "text": [
      "Success probability: 0.8329334133173365\n"
     ]
    }
   ],
   "source": [
    "# 32 qubits send\n",
    "get_success_probability(32)"
   ]
  },
  {
   "cell_type": "markdown",
   "id": "804f5943-b754-45ec-bbb9-223297765272",
   "metadata": {},
   "source": [
    "#### Tolerability"
   ]
  },
  {
   "cell_type": "code",
   "execution_count": 58,
   "id": "96ea2ad4-db5a-4c91-b4ed-d480f582d11c",
   "metadata": {},
   "outputs": [],
   "source": [
    "# preparing file\n",
    "depolarize_probabilities = [0.1, 0.2, 0.3, 0.4, 0.5, 0.6, 0.7, 0.8, 0.9, 1.0]\n",
    "\n",
    "results = {}\n",
    "\n",
    "for depolarize_probability in depolarize_probabilities:\n",
    "    results[depolarize_probability] = [0, 0]\n",
    "    \n",
    "file = open(\"probability_results.txt\", \"w\")\n",
    "file.write(str(results))\n",
    "file.close()"
   ]
  },
  {
   "cell_type": "code",
   "execution_count": 70,
   "id": "c5118dd3-46b1-4a3e-8058-444ec1422cf1",
   "metadata": {},
   "outputs": [
    {
     "name": "stdout",
     "output_type": "stream",
     "text": [
      "Tolerability using 10.0% error and 5002 iterations: 0.968812475009996\n"
     ]
    }
   ],
   "source": [
    "from lizama_qkd import QKD\n",
    "\n",
    "bits = 32\n",
    "min_iterations = 5000\n",
    "depolarize_probability = 0.1\n",
    "rounds = 1\n",
    "\n",
    "file = open(\"probability_results.txt\", \"r\")\n",
    "results = eval(file.read())\n",
    "file.close()\n",
    "\n",
    "actual_iterations = results[depolarize_probability][1]\n",
    "if actual_iterations:\n",
    "    actual_tolerability = results[depolarize_probability][0] / results[depolarize_probability][1]\n",
    "else:\n",
    "    actual_tolerability = 0\n",
    "\n",
    "for i in range(actual_iterations, 100000):\n",
    "    alice_key = ''\n",
    "    while not alice_key:\n",
    "        qkd = QKD(bits, rounds = rounds, depolarize_probability = depolarize_probability)\n",
    "        alice_raw_key, bob_raw_key = qkd.generate_raw_key()\n",
    "        alice_key, bob_key = qkd.generate_sifting_key(alice_raw_key, bob_raw_key)\n",
    "    \n",
    "    if alice_key == bob_key:\n",
    "        results[depolarize_probability][0] += 1\n",
    "            \n",
    "    results[depolarize_probability][1] += 1\n",
    "    \n",
    "    if (abs(actual_tolerability - (results[depolarize_probability][0] / results[depolarize_probability][1])) != 0) and (abs(actual_tolerability - (results[depolarize_probability][0] / results[depolarize_probability][1])) < 1e-4) and i > min_iterations:\n",
    "        actual_tolerability = results[depolarize_probability][0] / results[depolarize_probability][1]\n",
    "        print(f\"Tolerability using {depolarize_probability * 100}% error and {results[depolarize_probability][1]} iterations: {actual_tolerability}\")\n",
    "        break\n",
    "\n",
    "    actual_tolerability = results[depolarize_probability][0] / results[depolarize_probability][1]\n",
    "    \n",
    "    file = open(\"probability_results.txt\", \"w\")\n",
    "    file.write(str(results))\n",
    "    file.close()"
   ]
  }
 ],
 "metadata": {
  "kernelspec": {
   "display_name": "Python 3",
   "language": "python",
   "name": "python3"
  },
  "language_info": {
   "codemirror_mode": {
    "name": "ipython",
    "version": 3
   },
   "file_extension": ".py",
   "mimetype": "text/x-python",
   "name": "python",
   "nbconvert_exporter": "python",
   "pygments_lexer": "ipython3",
   "version": "3.8.15"
  }
 },
 "nbformat": 4,
 "nbformat_minor": 5
}
