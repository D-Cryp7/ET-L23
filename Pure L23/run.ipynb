{
 "cells": [
  {
   "cell_type": "code",
   "execution_count": 21,
   "id": "797a483b-4a35-49da-9293-b012343ef54b",
   "metadata": {
    "tags": []
   },
   "outputs": [
    {
     "name": "stdout",
     "output_type": "stream",
     "text": [
      "Alice raw key: 01111101001000011000110011011111\n",
      "Bob raw key: 01100101001000010100111011111111\n",
      "QKD completed!\n",
      "Shared key: 011110101111000110000011011001010010011010101011111010000110011001101100011100000011111111010110101101110100001110001000110111010100101110000110000101101011100011010101100101010010100011011100001110010100111111001100110101000110101011010110101010101100001100010100010000010100011010010010111111111110000100110110010101011011110110001101001011000101111010000110111010101101000001111101011011111100100001110100010110011111101001100011001101011101001101110100101101110111110101001001011001101010101100111101100011010000011000001110110001110011001011111100101011111000111111111010010111111111001111011100000111110010111110010011110001001101011110000101010010100110110011000010010111100010110000110010110101110011111000010001110001100000001111101001110101001111010110010011011011101101001000010011100010110001000110010110001101111000000000000100111111011010101010110010100101010011011101000111110110110110010111001000001110000010000110101011010010100000110001100011011010010110011111010011001100111110111011000110010101100011011010000000101011100100101110110011101001001000011111011111011010111101111101111001000110010010010010010111100100000111001001100000000\n",
      "Alice encrypted message: 5737ba89af03bbdde362f5f1e715b3ba192d8c1dc894a4b75a98021ab08b77ff06ec79e4d5a5c1896824422b49e42278\n",
      "Bob decrypted message: H3xTEL{R3v3rS3_R3C0nc1l14710N_1s_P34K!}\n"
     ]
    }
   ],
   "source": [
    "from Crypto.Util.Padding import pad, unpad\n",
    "from Crypto.Cipher import AES\n",
    "from hashlib import sha256\n",
    "\n",
    "from lizama_qkd import QKD\n",
    "\n",
    "bits = 32\n",
    "qkd = QKD(bits, rounds = 1)\n",
    "\n",
    "alice_raw_key, bob_raw_key = qkd.generate_raw_key()\n",
    "print(f\"Alice raw key: {alice_raw_key}\")\n",
    "print(f\"Bob raw key: {bob_raw_key}\")\n",
    "\n",
    "alice_key, bob_key = qkd.generate_sifting_key(alice_raw_key, bob_raw_key)\n",
    "\n",
    "assert alice_key == bob_key\n",
    "print(\"QKD completed!\")\n",
    "\n",
    "print(f\"Shared key: {alice_key}\")\n",
    "\n",
    "alice_key = sha256(alice_key.encode()).digest()\n",
    "bob_key = sha256(bob_key.encode()).digest()\n",
    "\n",
    "MSG = b\"H3xTEL{R3v3rS3_R3C0nc1l14710N_1s_P34K!}\"\n",
    "cipher = AES.new(alice_key, AES.MODE_ECB)\n",
    "encrypted = cipher.encrypt(pad(MSG, 16))\n",
    "\n",
    "print(f\"Alice encrypted message: {encrypted.hex()}\")\n",
    "\n",
    "cipher = AES.new(bob_key, AES.MODE_ECB)\n",
    "decrypted = unpad(cipher.decrypt(encrypted), 16)\n",
    "\n",
    "print(f\"Bob decrypted message: {decrypted.decode()}\")"
   ]
  },
  {
   "cell_type": "markdown",
   "id": "ea259c83-3cc4-4923-a721-4186ed5afd6b",
   "metadata": {},
   "source": [
    "#### Success probability calculation"
   ]
  },
  {
   "cell_type": "code",
   "execution_count": null,
   "id": "ddf348d7-a0e1-4dd5-b7a0-526358e5e0af",
   "metadata": {},
   "outputs": [],
   "source": [
    "def get_success_probability(bits):\n",
    "    total = 0\n",
    "    success = 0\n",
    "    actual = 0\n",
    "    for i in range(1000000):\n",
    "        qkd = QKD(bits)\n",
    "        alice_raw_key, bob_raw_key = qkd.generate_raw_key()\n",
    "        alice_key, bob_key = qkd.generate_sifting_key(alice_raw_key, bob_raw_key)\n",
    "        assert alice_key == bob_key\n",
    "        if alice_key:\n",
    "            success += 1\n",
    "        total += 1\n",
    "\n",
    "        if (abs(actual - (success / total)) != 0) and (abs(actual - (success / total)) < 1e-4) and i > 10000:\n",
    "            actual = success / total\n",
    "            print(f\"Success probability: {actual}\")\n",
    "            break\n",
    "\n",
    "        actual = success / total"
   ]
  },
  {
   "cell_type": "code",
   "execution_count": null,
   "id": "ecf534f6-0f97-4eca-bc70-e6404c447108",
   "metadata": {},
   "outputs": [],
   "source": [
    "# 8 qubits send\n",
    "get_success_probability(8)"
   ]
  },
  {
   "cell_type": "code",
   "execution_count": null,
   "id": "4b278ef4-f805-4ce4-9542-310f4aa141e1",
   "metadata": {},
   "outputs": [],
   "source": [
    "# 16 qubits send\n",
    "get_success_probability(16)"
   ]
  },
  {
   "cell_type": "code",
   "execution_count": null,
   "id": "2edadac8-474f-4575-b641-30c575e288a9",
   "metadata": {},
   "outputs": [],
   "source": [
    "# 32 qubits send\n",
    "get_success_probability(32)"
   ]
  }
 ],
 "metadata": {
  "kernelspec": {
   "display_name": "Python 3",
   "language": "python",
   "name": "python3"
  },
  "language_info": {
   "codemirror_mode": {
    "name": "ipython",
    "version": 3
   },
   "file_extension": ".py",
   "mimetype": "text/x-python",
   "name": "python",
   "nbconvert_exporter": "python",
   "pygments_lexer": "ipython3",
   "version": "3.8.15"
  }
 },
 "nbformat": 4,
 "nbformat_minor": 5
}
